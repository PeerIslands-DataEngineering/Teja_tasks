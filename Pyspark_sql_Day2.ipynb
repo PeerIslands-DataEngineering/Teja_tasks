{
  "nbformat": 4,
  "nbformat_minor": 0,
  "metadata": {
    "colab": {
      "provenance": []
    },
    "kernelspec": {
      "name": "python3",
      "display_name": "Python 3"
    },
    "language_info": {
      "name": "python"
    }
  },
  "cells": [
    {
      "cell_type": "code",
      "execution_count": 4,
      "metadata": {
        "colab": {
          "base_uri": "https://localhost:8080/"
        },
        "id": "RauuF5_aZFaA",
        "outputId": "9a249b9d-ff22-45ad-8f61-ac499ab95024"
      },
      "outputs": [
        {
          "output_type": "stream",
          "name": "stdout",
          "text": [
            "root\n",
            " |-- PassengerId: long (nullable = true)\n",
            " |-- Survived: long (nullable = true)\n",
            " |-- Pclass: long (nullable = true)\n",
            " |-- Name: string (nullable = true)\n",
            " |-- Sex: string (nullable = true)\n",
            " |-- Age: double (nullable = true)\n",
            " |-- SibSp: long (nullable = true)\n",
            " |-- Parch: long (nullable = true)\n",
            " |-- Ticket: string (nullable = true)\n",
            " |-- Fare: double (nullable = true)\n",
            " |-- Cabin: string (nullable = true)\n",
            " |-- Embarked: string (nullable = true)\n",
            "\n",
            "+------+------+-------------------+\n",
            "|Pclass|   Sex|      avg(Survived)|\n",
            "+------+------+-------------------+\n",
            "|     1|female| 0.9680851063829787|\n",
            "|     1|  male|0.36885245901639346|\n",
            "|     2|female| 0.9210526315789473|\n",
            "|     2|  male| 0.1574074074074074|\n",
            "|     3|female|                0.5|\n",
            "|     3|  male|0.13544668587896252|\n",
            "+------+------+-------------------+\n",
            "\n"
          ]
        }
      ],
      "source": [
        "from pyspark.sql import SparkSession\n",
        "from pyspark.sql.functions import desc, avg\n",
        "\n",
        "spark = SparkSession.builder.appName(\"parquet file\").getOrCreate()\n",
        "\n",
        "df = spark.read.parquet(\"/content/titanic.parquet\")\n",
        "df.printSchema()\n",
        "\n",
        "df = df.groupBy(\"Pclass\", \"Sex\").agg(avg(\"Survived\"))\n",
        "\n",
        "df.orderBy(\"Pclass\", desc(avg(\"Survived\"))).show()"
      ]
    },
    {
      "cell_type": "code",
      "source": [
        "from pyspark.sql.functions import desc, avg\n",
        "\n",
        "df = spark.read.parquet(\"/content/titanic.parquet\")\n",
        "df = df.dropna(subset=[\"Fare\", \"Age\"])\n",
        "df = df.groupBy(\"Embarked\").agg(avg(\"Fare\"), avg(\"Age\"))\n",
        "\n",
        "df = df.orderBy(desc(avg(\"Fare\")))\n",
        "df.show()"
      ],
      "metadata": {
        "colab": {
          "base_uri": "https://localhost:8080/"
        },
        "id": "MfUhT9-7ZbyD",
        "outputId": "6127525f-1314-45e8-9b32-c6f381c6279a"
      },
      "execution_count": 5,
      "outputs": [
        {
          "output_type": "stream",
          "name": "stdout",
          "text": [
            "+--------+------------------+------------------+\n",
            "|Embarked|         avg(Fare)|          avg(Age)|\n",
            "+--------+------------------+------------------+\n",
            "|    NULL|              80.0|              50.0|\n",
            "|       C| 68.29676692307693| 30.81476923076923|\n",
            "|       S|27.476284476534268| 29.44539711191336|\n",
            "|       Q|         18.265775|28.089285714285715|\n",
            "+--------+------------------+------------------+\n",
            "\n"
          ]
        }
      ]
    },
    {
      "cell_type": "code",
      "source": [
        "from pyspark.sql.functions import col\n",
        "\n",
        "df = spark.read.parquet(\"/content/titanic.parquet\")\n",
        "\n",
        "df = df.filter(col(\"Survived\")==1)\n",
        "\n",
        "df = df.orderBy(desc(\"Fare\"))\n",
        "df.select(\"Name\", \"Pclass\", \"Sex\", \"Fare\", \"Cabin\").show(5)"
      ],
      "metadata": {
        "colab": {
          "base_uri": "https://localhost:8080/"
        },
        "id": "YzplgURcZknm",
        "outputId": "34e3c98a-b790-4af0-b318-4ed4fc9c1fc8"
      },
      "execution_count": 6,
      "outputs": [
        {
          "output_type": "stream",
          "name": "stdout",
          "text": [
            "+--------------------+------+------+--------+-----------+\n",
            "|                Name|Pclass|   Sex|    Fare|      Cabin|\n",
            "+--------------------+------+------+--------+-----------+\n",
            "|    Ward, Miss. Anna|     1|female|512.3292|       NULL|\n",
            "|Cardeza, Mr. Thom...|     1|  male|512.3292|B51 B53 B55|\n",
            "|Lesurer, Mr. Gust...|     1|  male|512.3292|       B101|\n",
            "|Fortune, Miss. Ma...|     1|female|   263.0|C23 C25 C27|\n",
            "|Fortune, Miss. Al...|     1|female|   263.0|C23 C25 C27|\n",
            "+--------------------+------+------+--------+-----------+\n",
            "only showing top 5 rows\n",
            "\n"
          ]
        }
      ]
    }
  ]
}