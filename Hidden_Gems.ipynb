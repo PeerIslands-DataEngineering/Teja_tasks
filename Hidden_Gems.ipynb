{
  "nbformat": 4,
  "nbformat_minor": 0,
  "metadata": {
    "colab": {
      "provenance": []
    },
    "kernelspec": {
      "name": "python3",
      "display_name": "Python 3"
    },
    "language_info": {
      "name": "python"
    }
  },
  "cells": [
    {
      "cell_type": "code",
      "execution_count": null,
      "metadata": {
        "colab": {
          "base_uri": "https://localhost:8080/"
        },
        "id": "8YCThvmXky1K",
        "outputId": "83511f12-6fe7-40cf-d95d-f4478912cfc7"
      },
      "outputs": [
        {
          "output_type": "stream",
          "name": "stdout",
          "text": [
            "+--------------------+-------------+---------+-------------+\n",
            "|            Industry|Company Count|  avg_arr|avg_valuation|\n",
            "+--------------------+-------------+---------+-------------+\n",
            "| Enterprise Software|            2|1.5125E11|    1.6075E12|\n",
            "|Database & Enterp...|            1|  5.29E10|       3.5E11|\n",
            "|                 CRM|            1|  3.79E10|     2.278E11|\n",
            "|   Creative Software|            1|  1.94E10|       2.4E11|\n",
            "|            Payments|            2| 1.685E10|       7.5E10|\n",
            "|  Financial Software|            1|  1.44E10|       1.8E11|\n",
            "|IT Service Manage...|            1|    8.9E9|      1.47E11|\n",
            "|        HR & Finance|            1|    7.3E9|       6.5E10|\n",
            "|          E-commerce|            1|    7.1E9|       9.5E10|\n",
            "|       Cybersecurity|            2|    5.3E9|      8.25E10|\n",
            "|Video Communications|            1|    4.5E9|       8.5E10|\n",
            "|     Restaurant Tech|            1|    3.9E9|       2.0E10|\n",
            "|Collaboration Sof...|            1|    3.5E9|       5.5E10|\n",
            "|      Communications|            2|   3.15E9|        8.5E9|\n",
            "|      Data Analytics|            2|   2.95E9|       5.2E10|\n",
            "|    Data Warehousing|            1|    2.8E9|       7.5E10|\n",
            "|  Digital Agreements|            1|    2.5E9|       1.0E10|\n",
            "|       Life Sciences|            1|    2.4E9|       3.5E10|\n",
            "| Identity Management|            1|    2.2E9|       2.5E10|\n",
            "|   Marketing & Sales|            1|    2.2E9|       3.2E10|\n",
            "+--------------------+-------------+---------+-------------+\n",
            "only showing top 20 rows\n",
            "\n"
          ]
        }
      ],
      "source": [
        "# Problem Statement:\n",
        "\n",
        "# You're tasked with identifying \"hidden gem\" startups from the attached CSV— companies that are not heavily funded, but are showing strong performance metrics. Select companies that meet the following conditions:\n",
        "\n",
        "# -Have an ARR over $100M\n",
        "# -Have a Valuation under $500M\n",
        "# -Have a G2 Rating of 4.0 or above\n",
        "# -Were founded in or after 2015\n",
        "\n",
        "# You must:\n",
        "# 1)Group the results by Industry\n",
        "# 2)For each industry, calculate:\n",
        "# 3)The number of such companies\n",
        "# 4)The average ARR\n",
        "# 5)The average Valuation\n",
        "# 6)Sort the industries by average ARR descending\n",
        "\n",
        "# Display only industries that have at least 2 companies matching the above criteria.\n",
        "from pyspark.sql import SparkSession\n",
        "from pyspark.sql.functions import *\n",
        "from pyspark.sql.functions import col, regexp_replace, when, trim, upper\n",
        "\n",
        "spark= SparkSession.builder.appName(\"pyspark_test\").getOrCreate()\n",
        "df = spark.read.csv(\"/content/top_100_saas_companies_2025.csv\",header=True , inferSchema=True)\n",
        "\n",
        "df1= df.dropna(subset=['ARR','Valuation','G2 Rating'])\n",
        "df1 = df1.withColumn('G2 Rating', col('G2 Rating').cast(\"double\"))\n",
        "cols_to_convert = [\"ARR\", \"Valuation\", \"Total Funding\"]\n",
        "\n",
        "\n",
        "def convert_unit(col_name: str):\n",
        "\n",
        "    cleaned = upper(trim(regexp_replace(col(col_name), \"[$,]\", \"\")))\n",
        "\n",
        "    return (\n",
        "        when(cleaned.endswith(\"T\"), regexp_replace(cleaned, \"T\", \"\").cast(\"double\") * 1e12)\n",
        "        .when(cleaned.endswith(\"B\"), regexp_replace(cleaned, \"B\", \"\").cast(\"double\") * 1e9)\n",
        "        .when(cleaned.endswith(\"M\"), regexp_replace(cleaned, \"M\", \"\").cast(\"double\") * 1e6)\n",
        "        .when(cleaned.endswith(\"K\"), regexp_replace(cleaned, \"K\", \"\").cast(\"double\") * 1e3)\n",
        "        .when(cleaned.rlike(\"^[0-9.]+$\"), cleaned.cast(\"double\"))\n",
        "        .otherwise(None)\n",
        "    )\n",
        "for c in cols_to_convert:\n",
        "    df1 = df1.withColumn(c, convert_unit(c))\n",
        "\n",
        "df2 = df1.filter((col('ARR')>1E8) | (col('Valuation')<5E8 )|(col('G2 Rating')>=4) | (col('Founded Year')>=2015))\n",
        "df3 = df2.groupBy('Industry').agg(count(\"*\").alias(\"Company Count\"),avg('ARR').alias('avg_arr'),avg('Valuation').alias('avg_valuation')).orderBy('avg_arr',ascending=False)\n",
        "df3.show()"
      ]
    }
  ]
}