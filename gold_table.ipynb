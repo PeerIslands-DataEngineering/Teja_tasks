{
 "cells": [
  {
   "cell_type": "code",
   "execution_count": 0,
   "metadata": {
    "application/vnd.databricks.v1+cell": {
     "cellMetadata": {
      "byteLimit": 2048000,
      "rowLimit": 10000
     },
     "inputWidgets": {},
     "nuid": "7f51f439-421a-4ff7-a820-dc5b947084b9",
     "showTitle": false,
     "tableResultSettingsMap": {},
     "title": ""
    }
   },
   "outputs": [
    {
     "output_type": "display_data",
     "data": {
      "text/html": [
       "<style scoped>\n",
       "  .table-result-container {\n",
       "    max-height: 300px;\n",
       "    overflow: auto;\n",
       "  }\n",
       "  table, th, td {\n",
       "    border: 1px solid black;\n",
       "    border-collapse: collapse;\n",
       "  }\n",
       "  th, td {\n",
       "    padding: 5px;\n",
       "  }\n",
       "  th {\n",
       "    text-align: left;\n",
       "  }\n",
       "</style><div class='table-result-container'><table class='table-result'><thead style='background-color: white'><tr><th>customer_id</th><th>no_of_orders</th><th>total_amount</th><th>max_amount</th><th>min_amount</th><th>transactions</th><th>first_purchased</th><th>last_purchased</th><th>categories</th><th>regions</th></tr></thead><tbody><tr><td>C1003</td><td>6</td><td>1621.25</td><td>340.0</td><td>120.0</td><td>6</td><td>01/18/2023</td><td>03/01/2023</td><td>List(books)</td><td>List(IND, US)</td></tr><tr><td>C1010</td><td>4</td><td>509.95</td><td>210.0</td><td>50.0</td><td>4</td><td>01/28/2023</td><td>02/26/2023</td><td>List(electronics, clothing, books)</td><td>List(US)</td></tr><tr><td>C1005</td><td>5</td><td>2330.0</td><td>600.0</td><td>380.0</td><td>5</td><td>01/20/2023</td><td>03/03/2023</td><td>List(home appliances, electronics)</td><td>List(US, UK, IND)</td></tr><tr><td>C1002</td><td>7</td><td>340.8</td><td>85.0</td><td>0.0</td><td>7</td><td>01/16/2023</td><td>02/28/2023</td><td>List(clothing)</td><td>List(UK)</td></tr><tr><td>C1007</td><td>4</td><td>230.75</td><td>95.25</td><td>10.5</td><td>4</td><td>01/23/2023</td><td>02/23/2023</td><td>List(clothing, electronics, books)</td><td>List(US, UK, IND)</td></tr><tr><td>C1006</td><td>4</td><td>290.49</td><td>110.0</td><td>15.0</td><td>4</td><td>01/21/2023</td><td>02/22/2023</td><td>List(clothing, electronics)</td><td>List(US, UK)</td></tr><tr><td>C1004</td><td>5</td><td>555.0</td><td>230.0</td><td>0.0</td><td>5</td><td>01/19/2023</td><td>03/02/2023</td><td>List(home appliances, books)</td><td>List(US)</td></tr><tr><td>C1009</td><td>4</td><td>510.75</td><td>220.0</td><td>20.0</td><td>4</td><td>01/27/2023</td><td>02/25/2023</td><td>List(clothing, home appliances, books)</td><td>List(UK)</td></tr><tr><td>C1001</td><td>7</td><td>1058.0</td><td>200.75</td><td>25.0</td><td>7</td><td>01/15/2023</td><td>02/27/2023</td><td>List(electronics)</td><td>List(US)</td></tr><tr><td>C1008</td><td>4</td><td>2040.25</td><td>750.25</td><td>320.0</td><td>4</td><td>01/25/2023</td><td>02/24/2023</td><td>List(books, electronics)</td><td>List(US)</td></tr></tbody></table></div>"
      ]
     },
     "metadata": {
      "application/vnd.databricks.v1+output": {
       "addedWidgets": {},
       "aggData": [],
       "aggError": "",
       "aggOverflow": false,
       "aggSchema": [],
       "aggSeriesLimitReached": false,
       "aggType": "",
       "arguments": {},
       "columnCustomDisplayInfos": {},
       "data": [
        [
         "C1003",
         6,
         1621.25,
         340.0,
         120.0,
         6,
         "01/18/2023",
         "03/01/2023",
         [
          "books"
         ],
         [
          "IND",
          "US"
         ]
        ],
        [
         "C1010",
         4,
         509.95,
         210.0,
         50.0,
         4,
         "01/28/2023",
         "02/26/2023",
         [
          "electronics",
          "clothing",
          "books"
         ],
         [
          "US"
         ]
        ],
        [
         "C1005",
         5,
         2330.0,
         600.0,
         380.0,
         5,
         "01/20/2023",
         "03/03/2023",
         [
          "home appliances",
          "electronics"
         ],
         [
          "US",
          "UK",
          "IND"
         ]
        ],
        [
         "C1002",
         7,
         340.8,
         85.0,
         0.0,
         7,
         "01/16/2023",
         "02/28/2023",
         [
          "clothing"
         ],
         [
          "UK"
         ]
        ],
        [
         "C1007",
         4,
         230.75,
         95.25,
         10.5,
         4,
         "01/23/2023",
         "02/23/2023",
         [
          "clothing",
          "electronics",
          "books"
         ],
         [
          "US",
          "UK",
          "IND"
         ]
        ],
        [
         "C1006",
         4,
         290.49,
         110.0,
         15.0,
         4,
         "01/21/2023",
         "02/22/2023",
         [
          "clothing",
          "electronics"
         ],
         [
          "US",
          "UK"
         ]
        ],
        [
         "C1004",
         5,
         555.0,
         230.0,
         0.0,
         5,
         "01/19/2023",
         "03/02/2023",
         [
          "home appliances",
          "books"
         ],
         [
          "US"
         ]
        ],
        [
         "C1009",
         4,
         510.75,
         220.0,
         20.0,
         4,
         "01/27/2023",
         "02/25/2023",
         [
          "clothing",
          "home appliances",
          "books"
         ],
         [
          "UK"
         ]
        ],
        [
         "C1001",
         7,
         1058.0,
         200.75,
         25.0,
         7,
         "01/15/2023",
         "02/27/2023",
         [
          "electronics"
         ],
         [
          "US"
         ]
        ],
        [
         "C1008",
         4,
         2040.25,
         750.25,
         320.0,
         4,
         "01/25/2023",
         "02/24/2023",
         [
          "books",
          "electronics"
         ],
         [
          "US"
         ]
        ]
       ],
       "datasetInfos": [],
       "dbfsResultPath": null,
       "isJsonSchema": true,
       "metadata": {},
       "overflow": false,
       "plotOptions": {
        "customPlotOptions": {},
        "displayType": "table",
        "pivotAggregation": null,
        "pivotColumns": null,
        "xColumns": null,
        "yColumns": null
       },
       "removedWidgets": [],
       "schema": [
        {
         "metadata": "{}",
         "name": "customer_id",
         "type": "\"string\""
        },
        {
         "metadata": "{}",
         "name": "no_of_orders",
         "type": "\"long\""
        },
        {
         "metadata": "{}",
         "name": "total_amount",
         "type": "\"double\""
        },
        {
         "metadata": "{}",
         "name": "max_amount",
         "type": "\"double\""
        },
        {
         "metadata": "{}",
         "name": "min_amount",
         "type": "\"double\""
        },
        {
         "metadata": "{}",
         "name": "transactions",
         "type": "\"long\""
        },
        {
         "metadata": "{}",
         "name": "first_purchased",
         "type": "\"string\""
        },
        {
         "metadata": "{}",
         "name": "last_purchased",
         "type": "\"string\""
        },
        {
         "metadata": "{}",
         "name": "categories",
         "type": "{\"containsNull\":false,\"elementType\":\"string\",\"type\":\"array\"}"
        },
        {
         "metadata": "{}",
         "name": "regions",
         "type": "{\"containsNull\":false,\"elementType\":\"string\",\"type\":\"array\"}"
        }
       ],
       "type": "table"
      }
     },
     "output_type": "display_data"
    }
   ],
   "source": [
    "#GOLD LAYER\n",
    "\n",
    "from pyspark.sql.functions import count, sum, max, min, collect_set\n",
    "\n",
    "df = spark.read.table(\"workspace.default.silver_table\")\n",
    "\n",
    "gold_table = df.groupBy(\"customer_id\").agg(\n",
    "    count(\"customer_id\").alias(\"no_of_orders\"),\n",
    "    sum(\"amount\").alias(\"total_amount\"),\n",
    "    max(\"amount\").alias(\"max_amount\"),\n",
    "    min(\"amount\").alias(\"min_amount\"),\n",
    "    count(\"transaction_id\").alias(\"transactions\"), \n",
    "    min(\"transaction_date\").alias(\"first_purchased\"),\n",
    "    max(\"transaction_date\").alias(\"last_purchased\"),\n",
    "    collect_set(\"product_category\").alias(\"categories\"),\n",
    "    collect_set(\"region\").alias(\"regions\"),\n",
    ")\n",
    "\n",
    "gold_table.write.format(\"delta\").mode(\"overwrite\").saveAsTable(\"gold_table\")\n",
    "gold_table.display()"
   ]
  }
 ],
 "metadata": {
  "application/vnd.databricks.v1+notebook": {
   "computePreferences": null,
   "dashboards": [],
   "environmentMetadata": {
    "base_environment": "",
    "environment_version": "2"
   },
   "inputWidgetPreferences": null,
   "language": "python",
   "notebookMetadata": {
    "mostRecentlyExecutedCommandWithImplicitDF": {
     "commandId": 7307349950890115,
     "dataframes": [
      "_sqldf"
     ]
    },
    "pythonIndentUnit": 4
   },
   "notebookName": "gold_table 2025-07-09 15:40:16",
   "widgets": {}
  },
  "language_info": {
   "name": "python"
  }
 },
 "nbformat": 4,
 "nbformat_minor": 0
}