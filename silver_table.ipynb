{
 "cells": [
  {
   "cell_type": "code",
   "execution_count": 0,
   "metadata": {
    "application/vnd.databricks.v1+cell": {
     "cellMetadata": {
      "byteLimit": 2048000,
      "rowLimit": 10000
     },
     "inputWidgets": {},
     "nuid": "e1d67fab-b0d9-4247-9bf9-d245f7163196",
     "showTitle": false,
     "tableResultSettingsMap": {},
     "title": ""
    }
   },
   "outputs": [],
   "source": [
    "silver_table=spark.read.table(\"workspace.default.bronze_table\")\n"
   ]
  },
  {
   "cell_type": "code",
   "execution_count": 0,
   "metadata": {
    "application/vnd.databricks.v1+cell": {
     "cellMetadata": {
      "byteLimit": 2048000,
      "rowLimit": 10000
     },
     "inputWidgets": {},
     "nuid": "36b22a5e-e670-4ec8-8468-4e98d4534bac",
     "showTitle": false,
     "tableResultSettingsMap": {},
     "title": ""
    }
   },
   "outputs": [
    {
     "output_type": "display_data",
     "data": {
      "text/html": [
       "<style scoped>\n",
       "  .table-result-container {\n",
       "    max-height: 300px;\n",
       "    overflow: auto;\n",
       "  }\n",
       "  table, th, td {\n",
       "    border: 1px solid black;\n",
       "    border-collapse: collapse;\n",
       "  }\n",
       "  th, td {\n",
       "    padding: 5px;\n",
       "  }\n",
       "  th {\n",
       "    text-align: left;\n",
       "  }\n",
       "</style><div class='table-result-container'><table class='table-result'><thead style='background-color: white'><tr><th>transaction_id</th><th>customer_id</th><th>transaction_date</th><th>amount</th><th>product_category</th><th>region</th></tr></thead><tbody><tr><td>T001</td><td>C1001</td><td>01/15/2023</td><td>150.75</td><td>electronics</td><td>US</td></tr><tr><td>T002</td><td>C1002</td><td>01/16/2023</td><td>0.0</td><td>clothing</td><td>UK</td></tr><tr><td>T003</td><td>C1001</td><td>01/17/2023</td><td>25.0</td><td>electronics</td><td>US</td></tr><tr><td>T004</td><td>C1003</td><td>01/18/2023</td><td>300.5</td><td>books</td><td>IND</td></tr><tr><td>T005</td><td>C1002</td><td>01/18/2023</td><td>75.25</td><td>clothing</td><td>UK</td></tr><tr><td>T006</td><td>C1004</td><td>01/19/2023</td><td>200.0</td><td>books</td><td>US</td></tr><tr><td>T007</td><td>C1001</td><td>01/15/2023</td><td>150.75</td><td>electronics</td><td>US</td></tr><tr><td>T008</td><td>C1005</td><td>01/20/2023</td><td>450.0</td><td>home appliances</td><td>US</td></tr><tr><td>T009</td><td>C1006</td><td>01/21/2023</td><td>89.99</td><td>electronics</td><td>UK</td></tr><tr><td>T010</td><td>C1003</td><td>01/22/2023</td><td>120.0</td><td>books</td><td>US</td></tr><tr><td>T011</td><td>C1007</td><td>01/23/2023</td><td>10.5</td><td>clothing</td><td>IND</td></tr><tr><td>T012</td><td>C1002</td><td>01/24/2023</td><td>65.3</td><td>clothing</td><td>UK</td></tr><tr><td>T013</td><td>C1008</td><td>01/25/2023</td><td>750.25</td><td>electronics</td><td>US</td></tr><tr><td>T014</td><td>C1004</td><td>01/26/2023</td><td>0.0</td><td>books</td><td>US</td></tr><tr><td>T015</td><td>C1009</td><td>01/27/2023</td><td>220.0</td><td>home appliances</td><td>UK</td></tr><tr><td>T016</td><td>C1010</td><td>01/28/2023</td><td>99.95</td><td>electronics</td><td>US</td></tr><tr><td>T017</td><td>C1001</td><td>01/29/2023</td><td>175.0</td><td>electronics</td><td>US</td></tr><tr><td>T018</td><td>C1002</td><td>01/30/2023</td><td>45.0</td><td>clothing</td><td>UK</td></tr><tr><td>T019</td><td>C1003</td><td>01/31/2023</td><td>280.75</td><td>books</td><td>US</td></tr><tr><td>T020</td><td>C1005</td><td>02/01/2023</td><td>600.0</td><td>home appliances</td><td>IND</td></tr><tr><td>T021</td><td>C1006</td><td>02/02/2023</td><td>15.0</td><td>electronics</td><td>UK</td></tr><tr><td>T022</td><td>C1007</td><td>02/03/2023</td><td>95.25</td><td>clothing</td><td>US</td></tr><tr><td>T023</td><td>C1008</td><td>02/04/2023</td><td>320.0</td><td>electronics</td><td>US</td></tr><tr><td>T024</td><td>C1009</td><td>02/05/2023</td><td>180.5</td><td>books</td><td>UK</td></tr><tr><td>T025</td><td>C1010</td><td>02/06/2023</td><td>50.0</td><td>clothing</td><td>US</td></tr><tr><td>T026</td><td>C1001</td><td>02/07/2023</td><td>200.75</td><td>electronics</td><td>US</td></tr><tr><td>T027</td><td>C1002</td><td>02/08/2023</td><td>0.0</td><td>clothing</td><td>UK</td></tr><tr><td>T028</td><td>C1003</td><td>02/09/2023</td><td>310.0</td><td>books</td><td>US</td></tr><tr><td>T029</td><td>C1004</td><td>02/10/2023</td><td>125.0</td><td>home appliances</td><td>US</td></tr><tr><td>T030</td><td>C1005</td><td>02/11/2023</td><td>400.0</td><td>electronics</td><td>UK</td></tr><tr><td>T031</td><td>C1006</td><td>02/12/2023</td><td>75.5</td><td>clothing</td><td>US</td></tr><tr><td>T032</td><td>C1007</td><td>02/13/2023</td><td>30.0</td><td>books</td><td>UK</td></tr><tr><td>T033</td><td>C1008</td><td>02/14/2023</td><td>550.0</td><td>electronics</td><td>US</td></tr><tr><td>T034</td><td>C1009</td><td>02/15/2023</td><td>90.25</td><td>clothing</td><td>UK</td></tr><tr><td>T035</td><td>C1010</td><td>02/16/2023</td><td>210.0</td><td>books</td><td>US</td></tr><tr><td>T036</td><td>C1001</td><td>02/17/2023</td><td>165.75</td><td>electronics</td><td>US</td></tr><tr><td>T037</td><td>C1002</td><td>02/18/2023</td><td>85.0</td><td>clothing</td><td>UK</td></tr><tr><td>T038</td><td>C1003</td><td>02/19/2023</td><td>270.0</td><td>books</td><td>IND</td></tr><tr><td>T039</td><td>C1004</td><td>02/20/2023</td><td>0.0</td><td>home appliances</td><td>US</td></tr><tr><td>T040</td><td>C1005</td><td>02/21/2023</td><td>380.0</td><td>electronics</td><td>UK</td></tr><tr><td>T041</td><td>C1006</td><td>02/22/2023</td><td>110.0</td><td>clothing</td><td>US</td></tr><tr><td>T042</td><td>C1007</td><td>02/23/2023</td><td>95.0</td><td>electronics</td><td>UK</td></tr><tr><td>T043</td><td>C1008</td><td>02/24/2023</td><td>420.0</td><td>books</td><td>US</td></tr><tr><td>T044</td><td>C1009</td><td>02/25/2023</td><td>20.0</td><td>home appliances</td><td>UK</td></tr><tr><td>T045</td><td>C1010</td><td>02/26/2023</td><td>150.0</td><td>clothing</td><td>US</td></tr><tr><td>T046</td><td>C1001</td><td>02/27/2023</td><td>190.0</td><td>electronics</td><td>US</td></tr><tr><td>T047</td><td>C1002</td><td>02/28/2023</td><td>70.25</td><td>clothing</td><td>UK</td></tr><tr><td>T048</td><td>C1003</td><td>03/01/2023</td><td>340.0</td><td>books</td><td>US</td></tr><tr><td>T049</td><td>C1004</td><td>03/02/2023</td><td>230.0</td><td>home appliances</td><td>US</td></tr><tr><td>T050</td><td>C1005</td><td>03/03/2023</td><td>500.0</td><td>electronics</td><td>UK</td></tr></tbody></table></div>"
      ]
     },
     "metadata": {
      "application/vnd.databricks.v1+output": {
       "addedWidgets": {},
       "aggData": [],
       "aggError": "",
       "aggOverflow": false,
       "aggSchema": [],
       "aggSeriesLimitReached": false,
       "aggType": "",
       "arguments": {},
       "columnCustomDisplayInfos": {},
       "data": [
        [
         "T001",
         "C1001",
         "01/15/2023",
         150.75,
         "electronics",
         "US"
        ],
        [
         "T002",
         "C1002",
         "01/16/2023",
         0.0,
         "clothing",
         "UK"
        ],
        [
         "T003",
         "C1001",
         "01/17/2023",
         25.0,
         "electronics",
         "US"
        ],
        [
         "T004",
         "C1003",
         "01/18/2023",
         300.5,
         "books",
         "IND"
        ],
        [
         "T005",
         "C1002",
         "01/18/2023",
         75.25,
         "clothing",
         "UK"
        ],
        [
         "T006",
         "C1004",
         "01/19/2023",
         200.0,
         "books",
         "US"
        ],
        [
         "T007",
         "C1001",
         "01/15/2023",
         150.75,
         "electronics",
         "US"
        ],
        [
         "T008",
         "C1005",
         "01/20/2023",
         450.0,
         "home appliances",
         "US"
        ],
        [
         "T009",
         "C1006",
         "01/21/2023",
         89.99,
         "electronics",
         "UK"
        ],
        [
         "T010",
         "C1003",
         "01/22/2023",
         120.0,
         "books",
         "US"
        ],
        [
         "T011",
         "C1007",
         "01/23/2023",
         10.5,
         "clothing",
         "IND"
        ],
        [
         "T012",
         "C1002",
         "01/24/2023",
         65.3,
         "clothing",
         "UK"
        ],
        [
         "T013",
         "C1008",
         "01/25/2023",
         750.25,
         "electronics",
         "US"
        ],
        [
         "T014",
         "C1004",
         "01/26/2023",
         0.0,
         "books",
         "US"
        ],
        [
         "T015",
         "C1009",
         "01/27/2023",
         220.0,
         "home appliances",
         "UK"
        ],
        [
         "T016",
         "C1010",
         "01/28/2023",
         99.95,
         "electronics",
         "US"
        ],
        [
         "T017",
         "C1001",
         "01/29/2023",
         175.0,
         "electronics",
         "US"
        ],
        [
         "T018",
         "C1002",
         "01/30/2023",
         45.0,
         "clothing",
         "UK"
        ],
        [
         "T019",
         "C1003",
         "01/31/2023",
         280.75,
         "books",
         "US"
        ],
        [
         "T020",
         "C1005",
         "02/01/2023",
         600.0,
         "home appliances",
         "IND"
        ],
        [
         "T021",
         "C1006",
         "02/02/2023",
         15.0,
         "electronics",
         "UK"
        ],
        [
         "T022",
         "C1007",
         "02/03/2023",
         95.25,
         "clothing",
         "US"
        ],
        [
         "T023",
         "C1008",
         "02/04/2023",
         320.0,
         "electronics",
         "US"
        ],
        [
         "T024",
         "C1009",
         "02/05/2023",
         180.5,
         "books",
         "UK"
        ],
        [
         "T025",
         "C1010",
         "02/06/2023",
         50.0,
         "clothing",
         "US"
        ],
        [
         "T026",
         "C1001",
         "02/07/2023",
         200.75,
         "electronics",
         "US"
        ],
        [
         "T027",
         "C1002",
         "02/08/2023",
         0.0,
         "clothing",
         "UK"
        ],
        [
         "T028",
         "C1003",
         "02/09/2023",
         310.0,
         "books",
         "US"
        ],
        [
         "T029",
         "C1004",
         "02/10/2023",
         125.0,
         "home appliances",
         "US"
        ],
        [
         "T030",
         "C1005",
         "02/11/2023",
         400.0,
         "electronics",
         "UK"
        ],
        [
         "T031",
         "C1006",
         "02/12/2023",
         75.5,
         "clothing",
         "US"
        ],
        [
         "T032",
         "C1007",
         "02/13/2023",
         30.0,
         "books",
         "UK"
        ],
        [
         "T033",
         "C1008",
         "02/14/2023",
         550.0,
         "electronics",
         "US"
        ],
        [
         "T034",
         "C1009",
         "02/15/2023",
         90.25,
         "clothing",
         "UK"
        ],
        [
         "T035",
         "C1010",
         "02/16/2023",
         210.0,
         "books",
         "US"
        ],
        [
         "T036",
         "C1001",
         "02/17/2023",
         165.75,
         "electronics",
         "US"
        ],
        [
         "T037",
         "C1002",
         "02/18/2023",
         85.0,
         "clothing",
         "UK"
        ],
        [
         "T038",
         "C1003",
         "02/19/2023",
         270.0,
         "books",
         "IND"
        ],
        [
         "T039",
         "C1004",
         "02/20/2023",
         0.0,
         "home appliances",
         "US"
        ],
        [
         "T040",
         "C1005",
         "02/21/2023",
         380.0,
         "electronics",
         "UK"
        ],
        [
         "T041",
         "C1006",
         "02/22/2023",
         110.0,
         "clothing",
         "US"
        ],
        [
         "T042",
         "C1007",
         "02/23/2023",
         95.0,
         "electronics",
         "UK"
        ],
        [
         "T043",
         "C1008",
         "02/24/2023",
         420.0,
         "books",
         "US"
        ],
        [
         "T044",
         "C1009",
         "02/25/2023",
         20.0,
         "home appliances",
         "UK"
        ],
        [
         "T045",
         "C1010",
         "02/26/2023",
         150.0,
         "clothing",
         "US"
        ],
        [
         "T046",
         "C1001",
         "02/27/2023",
         190.0,
         "electronics",
         "US"
        ],
        [
         "T047",
         "C1002",
         "02/28/2023",
         70.25,
         "clothing",
         "UK"
        ],
        [
         "T048",
         "C1003",
         "03/01/2023",
         340.0,
         "books",
         "US"
        ],
        [
         "T049",
         "C1004",
         "03/02/2023",
         230.0,
         "home appliances",
         "US"
        ],
        [
         "T050",
         "C1005",
         "03/03/2023",
         500.0,
         "electronics",
         "UK"
        ]
       ],
       "datasetInfos": [],
       "dbfsResultPath": null,
       "isJsonSchema": true,
       "metadata": {},
       "overflow": false,
       "plotOptions": {
        "customPlotOptions": {},
        "displayType": "table",
        "pivotAggregation": null,
        "pivotColumns": null,
        "xColumns": null,
        "yColumns": null
       },
       "removedWidgets": [],
       "schema": [
        {
         "metadata": "{}",
         "name": "transaction_id",
         "type": "\"string\""
        },
        {
         "metadata": "{}",
         "name": "customer_id",
         "type": "\"string\""
        },
        {
         "metadata": "{}",
         "name": "transaction_date",
         "type": "\"string\""
        },
        {
         "metadata": "{}",
         "name": "amount",
         "type": "\"double\""
        },
        {
         "metadata": "{}",
         "name": "product_category",
         "type": "\"string\""
        },
        {
         "metadata": "{}",
         "name": "region",
         "type": "\"string\""
        }
       ],
       "type": "table"
      }
     },
     "output_type": "display_data"
    }
   ],
   "source": [
    "from pyspark.sql.functions import *\n",
    "\n",
    "silver_table = silver_table.dropDuplicates([\"transaction_id\"])\n",
    "\n",
    "silver_table = silver_table.fillna({\"amount\": 0,'region' : 'IND'})\n",
    "\n",
    "silver_table = silver_table.withColumn(\"amount\", abs(col(\"amount\")))\n",
    "\n",
    "silver_table = silver_table.withColumn(\"transaction_date\", regexp_replace(col(\"transaction_Date\"), \"-\", \"/\"))\n",
    "\n",
    "silver_table = silver_table.withColumn(\"product_category\", lower(col(\"product_category\")))\n",
    "\n",
    "silver_table.display()\n",
    "silver_table.write.format(\"delta\").mode(\"overwrite\").saveAsTable(\"silver_table\")\n",
    "\n",
    "\n",
    "\n"
   ]
  },
  {
   "cell_type": "code",
   "execution_count": 0,
   "metadata": {
    "application/vnd.databricks.v1+cell": {
     "cellMetadata": {
      "byteLimit": 2048000,
      "rowLimit": 10000
     },
     "inputWidgets": {},
     "nuid": "38e8073f-20f9-41cc-80f5-0ae7cd38cc37",
     "showTitle": false,
     "tableResultSettingsMap": {},
     "title": ""
    }
   },
   "outputs": [
    {
     "output_type": "display_data",
     "data": {
      "text/html": [
       "<style scoped>\n",
       "  .table-result-container {\n",
       "    max-height: 300px;\n",
       "    overflow: auto;\n",
       "  }\n",
       "  table, th, td {\n",
       "    border: 1px solid black;\n",
       "    border-collapse: collapse;\n",
       "  }\n",
       "  th, td {\n",
       "    padding: 5px;\n",
       "  }\n",
       "  th {\n",
       "    text-align: left;\n",
       "  }\n",
       "</style><div class='table-result-container'><table class='table-result'><thead style='background-color: white'><tr><th>transaction_id</th><th>customer_id</th><th>transaction_date</th><th>amount</th><th>product_category</th><th>region</th></tr></thead><tbody><tr><td>T001</td><td>C1001</td><td>01/15/2023</td><td>150.75</td><td>electronics</td><td>US</td></tr><tr><td>T002</td><td>C1002</td><td>01/16/2023</td><td>0.0</td><td>clothing</td><td>UK</td></tr><tr><td>T003</td><td>C1001</td><td>01/17/2023</td><td>25.0</td><td>electronics</td><td>US</td></tr><tr><td>T004</td><td>C1003</td><td>01/18/2023</td><td>300.5</td><td>books</td><td>IND</td></tr><tr><td>T005</td><td>C1002</td><td>01/18/2023</td><td>75.25</td><td>clothing</td><td>UK</td></tr><tr><td>T006</td><td>C1004</td><td>01/19/2023</td><td>200.0</td><td>books</td><td>US</td></tr><tr><td>T007</td><td>C1001</td><td>01/15/2023</td><td>150.75</td><td>electronics</td><td>US</td></tr><tr><td>T008</td><td>C1005</td><td>01/20/2023</td><td>450.0</td><td>home appliances</td><td>US</td></tr><tr><td>T009</td><td>C1006</td><td>01/21/2023</td><td>89.99</td><td>electronics</td><td>UK</td></tr><tr><td>T010</td><td>C1003</td><td>01/22/2023</td><td>120.0</td><td>books</td><td>US</td></tr><tr><td>T011</td><td>C1007</td><td>01/23/2023</td><td>10.5</td><td>clothing</td><td>IND</td></tr><tr><td>T012</td><td>C1002</td><td>01/24/2023</td><td>65.3</td><td>clothing</td><td>UK</td></tr><tr><td>T013</td><td>C1008</td><td>01/25/2023</td><td>750.25</td><td>electronics</td><td>US</td></tr><tr><td>T014</td><td>C1004</td><td>01/26/2023</td><td>0.0</td><td>books</td><td>US</td></tr><tr><td>T015</td><td>C1009</td><td>01/27/2023</td><td>220.0</td><td>home appliances</td><td>UK</td></tr><tr><td>T016</td><td>C1010</td><td>01/28/2023</td><td>99.95</td><td>electronics</td><td>US</td></tr><tr><td>T017</td><td>C1001</td><td>01/29/2023</td><td>175.0</td><td>electronics</td><td>US</td></tr><tr><td>T018</td><td>C1002</td><td>01/30/2023</td><td>45.0</td><td>clothing</td><td>UK</td></tr><tr><td>T019</td><td>C1003</td><td>01/31/2023</td><td>280.75</td><td>books</td><td>US</td></tr><tr><td>T020</td><td>C1005</td><td>02/01/2023</td><td>600.0</td><td>home appliances</td><td>IND</td></tr><tr><td>T021</td><td>C1006</td><td>02/02/2023</td><td>15.0</td><td>electronics</td><td>UK</td></tr><tr><td>T022</td><td>C1007</td><td>02/03/2023</td><td>95.25</td><td>clothing</td><td>US</td></tr><tr><td>T023</td><td>C1008</td><td>02/04/2023</td><td>320.0</td><td>electronics</td><td>US</td></tr><tr><td>T024</td><td>C1009</td><td>02/05/2023</td><td>180.5</td><td>books</td><td>UK</td></tr><tr><td>T025</td><td>C1010</td><td>02/06/2023</td><td>50.0</td><td>clothing</td><td>US</td></tr><tr><td>T026</td><td>C1001</td><td>02/07/2023</td><td>200.75</td><td>electronics</td><td>US</td></tr><tr><td>T027</td><td>C1002</td><td>02/08/2023</td><td>0.0</td><td>clothing</td><td>UK</td></tr><tr><td>T028</td><td>C1003</td><td>02/09/2023</td><td>310.0</td><td>books</td><td>US</td></tr><tr><td>T029</td><td>C1004</td><td>02/10/2023</td><td>125.0</td><td>home appliances</td><td>US</td></tr><tr><td>T030</td><td>C1005</td><td>02/11/2023</td><td>400.0</td><td>electronics</td><td>UK</td></tr><tr><td>T031</td><td>C1006</td><td>02/12/2023</td><td>75.5</td><td>clothing</td><td>US</td></tr><tr><td>T032</td><td>C1007</td><td>02/13/2023</td><td>30.0</td><td>books</td><td>UK</td></tr><tr><td>T033</td><td>C1008</td><td>02/14/2023</td><td>550.0</td><td>electronics</td><td>US</td></tr><tr><td>T034</td><td>C1009</td><td>02/15/2023</td><td>90.25</td><td>clothing</td><td>UK</td></tr><tr><td>T035</td><td>C1010</td><td>02/16/2023</td><td>210.0</td><td>books</td><td>US</td></tr><tr><td>T036</td><td>C1001</td><td>02/17/2023</td><td>165.75</td><td>electronics</td><td>US</td></tr><tr><td>T037</td><td>C1002</td><td>02/18/2023</td><td>85.0</td><td>clothing</td><td>UK</td></tr><tr><td>T038</td><td>C1003</td><td>02/19/2023</td><td>270.0</td><td>books</td><td>IND</td></tr><tr><td>T039</td><td>C1004</td><td>02/20/2023</td><td>0.0</td><td>home appliances</td><td>US</td></tr><tr><td>T040</td><td>C1005</td><td>02/21/2023</td><td>380.0</td><td>electronics</td><td>UK</td></tr><tr><td>T041</td><td>C1006</td><td>02/22/2023</td><td>110.0</td><td>clothing</td><td>US</td></tr><tr><td>T042</td><td>C1007</td><td>02/23/2023</td><td>95.0</td><td>electronics</td><td>UK</td></tr><tr><td>T043</td><td>C1008</td><td>02/24/2023</td><td>420.0</td><td>books</td><td>US</td></tr><tr><td>T044</td><td>C1009</td><td>02/25/2023</td><td>20.0</td><td>home appliances</td><td>UK</td></tr><tr><td>T045</td><td>C1010</td><td>02/26/2023</td><td>150.0</td><td>clothing</td><td>US</td></tr><tr><td>T046</td><td>C1001</td><td>02/27/2023</td><td>190.0</td><td>electronics</td><td>US</td></tr><tr><td>T047</td><td>C1002</td><td>02/28/2023</td><td>70.25</td><td>clothing</td><td>UK</td></tr><tr><td>T048</td><td>C1003</td><td>03/01/2023</td><td>340.0</td><td>books</td><td>US</td></tr><tr><td>T049</td><td>C1004</td><td>03/02/2023</td><td>230.0</td><td>home appliances</td><td>US</td></tr><tr><td>T050</td><td>C1005</td><td>03/03/2023</td><td>500.0</td><td>electronics</td><td>UK</td></tr></tbody></table></div>"
      ]
     },
     "metadata": {
      "application/vnd.databricks.v1+output": {
       "addedWidgets": {},
       "aggData": [],
       "aggError": "",
       "aggOverflow": false,
       "aggSchema": [],
       "aggSeriesLimitReached": false,
       "aggType": "",
       "arguments": {},
       "columnCustomDisplayInfos": {},
       "data": [
        [
         "T001",
         "C1001",
         "01/15/2023",
         150.75,
         "electronics",
         "US"
        ],
        [
         "T002",
         "C1002",
         "01/16/2023",
         0.0,
         "clothing",
         "UK"
        ],
        [
         "T003",
         "C1001",
         "01/17/2023",
         25.0,
         "electronics",
         "US"
        ],
        [
         "T004",
         "C1003",
         "01/18/2023",
         300.5,
         "books",
         "IND"
        ],
        [
         "T005",
         "C1002",
         "01/18/2023",
         75.25,
         "clothing",
         "UK"
        ],
        [
         "T006",
         "C1004",
         "01/19/2023",
         200.0,
         "books",
         "US"
        ],
        [
         "T007",
         "C1001",
         "01/15/2023",
         150.75,
         "electronics",
         "US"
        ],
        [
         "T008",
         "C1005",
         "01/20/2023",
         450.0,
         "home appliances",
         "US"
        ],
        [
         "T009",
         "C1006",
         "01/21/2023",
         89.99,
         "electronics",
         "UK"
        ],
        [
         "T010",
         "C1003",
         "01/22/2023",
         120.0,
         "books",
         "US"
        ],
        [
         "T011",
         "C1007",
         "01/23/2023",
         10.5,
         "clothing",
         "IND"
        ],
        [
         "T012",
         "C1002",
         "01/24/2023",
         65.3,
         "clothing",
         "UK"
        ],
        [
         "T013",
         "C1008",
         "01/25/2023",
         750.25,
         "electronics",
         "US"
        ],
        [
         "T014",
         "C1004",
         "01/26/2023",
         0.0,
         "books",
         "US"
        ],
        [
         "T015",
         "C1009",
         "01/27/2023",
         220.0,
         "home appliances",
         "UK"
        ],
        [
         "T016",
         "C1010",
         "01/28/2023",
         99.95,
         "electronics",
         "US"
        ],
        [
         "T017",
         "C1001",
         "01/29/2023",
         175.0,
         "electronics",
         "US"
        ],
        [
         "T018",
         "C1002",
         "01/30/2023",
         45.0,
         "clothing",
         "UK"
        ],
        [
         "T019",
         "C1003",
         "01/31/2023",
         280.75,
         "books",
         "US"
        ],
        [
         "T020",
         "C1005",
         "02/01/2023",
         600.0,
         "home appliances",
         "IND"
        ],
        [
         "T021",
         "C1006",
         "02/02/2023",
         15.0,
         "electronics",
         "UK"
        ],
        [
         "T022",
         "C1007",
         "02/03/2023",
         95.25,
         "clothing",
         "US"
        ],
        [
         "T023",
         "C1008",
         "02/04/2023",
         320.0,
         "electronics",
         "US"
        ],
        [
         "T024",
         "C1009",
         "02/05/2023",
         180.5,
         "books",
         "UK"
        ],
        [
         "T025",
         "C1010",
         "02/06/2023",
         50.0,
         "clothing",
         "US"
        ],
        [
         "T026",
         "C1001",
         "02/07/2023",
         200.75,
         "electronics",
         "US"
        ],
        [
         "T027",
         "C1002",
         "02/08/2023",
         0.0,
         "clothing",
         "UK"
        ],
        [
         "T028",
         "C1003",
         "02/09/2023",
         310.0,
         "books",
         "US"
        ],
        [
         "T029",
         "C1004",
         "02/10/2023",
         125.0,
         "home appliances",
         "US"
        ],
        [
         "T030",
         "C1005",
         "02/11/2023",
         400.0,
         "electronics",
         "UK"
        ],
        [
         "T031",
         "C1006",
         "02/12/2023",
         75.5,
         "clothing",
         "US"
        ],
        [
         "T032",
         "C1007",
         "02/13/2023",
         30.0,
         "books",
         "UK"
        ],
        [
         "T033",
         "C1008",
         "02/14/2023",
         550.0,
         "electronics",
         "US"
        ],
        [
         "T034",
         "C1009",
         "02/15/2023",
         90.25,
         "clothing",
         "UK"
        ],
        [
         "T035",
         "C1010",
         "02/16/2023",
         210.0,
         "books",
         "US"
        ],
        [
         "T036",
         "C1001",
         "02/17/2023",
         165.75,
         "electronics",
         "US"
        ],
        [
         "T037",
         "C1002",
         "02/18/2023",
         85.0,
         "clothing",
         "UK"
        ],
        [
         "T038",
         "C1003",
         "02/19/2023",
         270.0,
         "books",
         "IND"
        ],
        [
         "T039",
         "C1004",
         "02/20/2023",
         0.0,
         "home appliances",
         "US"
        ],
        [
         "T040",
         "C1005",
         "02/21/2023",
         380.0,
         "electronics",
         "UK"
        ],
        [
         "T041",
         "C1006",
         "02/22/2023",
         110.0,
         "clothing",
         "US"
        ],
        [
         "T042",
         "C1007",
         "02/23/2023",
         95.0,
         "electronics",
         "UK"
        ],
        [
         "T043",
         "C1008",
         "02/24/2023",
         420.0,
         "books",
         "US"
        ],
        [
         "T044",
         "C1009",
         "02/25/2023",
         20.0,
         "home appliances",
         "UK"
        ],
        [
         "T045",
         "C1010",
         "02/26/2023",
         150.0,
         "clothing",
         "US"
        ],
        [
         "T046",
         "C1001",
         "02/27/2023",
         190.0,
         "electronics",
         "US"
        ],
        [
         "T047",
         "C1002",
         "02/28/2023",
         70.25,
         "clothing",
         "UK"
        ],
        [
         "T048",
         "C1003",
         "03/01/2023",
         340.0,
         "books",
         "US"
        ],
        [
         "T049",
         "C1004",
         "03/02/2023",
         230.0,
         "home appliances",
         "US"
        ],
        [
         "T050",
         "C1005",
         "03/03/2023",
         500.0,
         "electronics",
         "UK"
        ]
       ],
       "datasetInfos": [],
       "dbfsResultPath": null,
       "isJsonSchema": true,
       "metadata": {},
       "overflow": false,
       "plotOptions": {
        "customPlotOptions": {},
        "displayType": "table",
        "pivotAggregation": null,
        "pivotColumns": null,
        "xColumns": null,
        "yColumns": null
       },
       "removedWidgets": [],
       "schema": [
        {
         "metadata": "{}",
         "name": "transaction_id",
         "type": "\"string\""
        },
        {
         "metadata": "{}",
         "name": "customer_id",
         "type": "\"string\""
        },
        {
         "metadata": "{}",
         "name": "transaction_date",
         "type": "\"string\""
        },
        {
         "metadata": "{}",
         "name": "amount",
         "type": "\"double\""
        },
        {
         "metadata": "{}",
         "name": "product_category",
         "type": "\"string\""
        },
        {
         "metadata": "{}",
         "name": "region",
         "type": "\"string\""
        }
       ],
       "type": "table"
      }
     },
     "output_type": "display_data"
    }
   ],
   "source": [
    "\n",
    "\n",
    "silver_table.display()"
   ]
  }
 ],
 "metadata": {
  "application/vnd.databricks.v1+notebook": {
   "computePreferences": null,
   "dashboards": [],
   "environmentMetadata": {
    "base_environment": "",
    "environment_version": "2"
   },
   "inputWidgetPreferences": null,
   "language": "python",
   "notebookMetadata": {
    "pythonIndentUnit": 4
   },
   "notebookName": "silver_layer 2025-07-09 11:55:39",
   "widgets": {}
  },
  "language_info": {
   "name": "python"
  }
 },
 "nbformat": 4,
 "nbformat_minor": 0
}